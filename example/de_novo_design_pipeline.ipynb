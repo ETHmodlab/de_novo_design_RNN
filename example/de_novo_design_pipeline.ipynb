{
 "cells": [
  {
   "cell_type": "markdown",
   "metadata": {},
   "source": [
    "# De novo molecule design with chemical language models"
   ]
  },
  {
   "cell_type": "markdown",
   "metadata": {},
   "source": [
    "Francesca Grisoni*, Gisbert Schneider <div>\n",
    "    \n",
    "f.grisoni@tue.nl"
   ]
  },
  {
   "cell_type": "markdown",
   "metadata": {},
   "source": [
    "## Table of Contents\n",
    "1. [Preliminary steps](#prel)\n",
    "2. [Model and fine tuning settings](#sets)\n",
    "    1. [Architecture](#arch)\n",
    "    2. [Fine-tuning](#ft) \n",
    "    3. [Sampling](#sampl) \n",
    "3. [Fine-tuning data](#data)\n",
    "    1. [Import and analyze](#imp)\n",
    "    2. [Molecule preparation](#prep) \n",
    "4. [License](#License)\n",
    "5. [How to cite](#cite)"
   ]
  },
  {
   "cell_type": "markdown",
   "metadata": {},
   "source": [
    "## 1. Preliminary steps <a name=\"prel\"></a>"
   ]
  },
  {
   "cell_type": "markdown",
   "metadata": {},
   "source": [
    "In the following lines, we add the necessary repo folders to the path. Do not delete these lines if you want the notebook to work. However, you can import additional packages you might need."
   ]
  },
  {
   "cell_type": "code",
   "execution_count": 46,
   "metadata": {},
   "outputs": [
    {
     "name": "stdout",
     "output_type": "stream",
     "text": [
      "The autoreload extension is already loaded. To reload it, use:\n",
      "  %reload_ext autoreload\n"
     ]
    }
   ],
   "source": [
    "# adds the paths to the repo folder\n",
    "import sys\n",
    "sys.path.insert(1, '../preprocessing/') # preprocessing code\n",
    "sys.path.insert(1, '../experiments/') # folder with configuration files\n",
    "sys.path.insert(1, '../data/') # data code\n",
    "sys.path.insert(1, '../model/') # model code\n",
    "sys.path.insert(1, '../evaluation/') # model code\n",
    "import os\n",
    "# repo modules\n",
    "from main_preprocessor import preprocess_data #for data preprocessing\n",
    "import configparser # to automatically change the .ini file\n",
    "from sample import Sampler\n",
    "\n",
    "# other modules\n",
    "import pandas as pd\n",
    "from rdkit import Chem\n",
    "from rdkit.Chem import AllChem\n",
    "from rdkit.Chem import Draw # for molecule depiction\n",
    "from rdkit.Chem.Draw import IPythonConsole\n",
    "from rdkit.Chem.Scaffolds import MurckoScaffold\n",
    "import ChemTools\n",
    "%load_ext autoreload\n",
    "%autoreload 2"
   ]
  },
  {
   "cell_type": "markdown",
   "metadata": {},
   "source": [
    "## 2. Model and fine-tuning settings <a name=\"sets\"></a>"
   ]
  },
  {
   "cell_type": "markdown",
   "metadata": {},
   "source": [
    "### Model architecture <a name=\"arch\"></a>\n",
    "As the first thing, we need to choose the settings for our model. Such settings will be used to prepare the data and for the fine-tuning procedure.\n",
    "In particular, you need to set each of the following elements:\n",
    "* *model* (str): type of RNN to use, *i.e.* 'BIMODAL' or 'ForwardRNN'  \n",
    "* *network_size* (int): total number of hidden units (recommended: 1024)\n",
    "* *start* (str): position of the starting token for BIMODAL ('fixed' or 'random')\n",
    "* *augmentation_level* (int): level of augmentation for BIMODAL, recommended 5 (1 is no augmentation).\n",
    "\n",
    "For this exercise, we choose the settings as specified below."
   ]
  },
  {
   "cell_type": "code",
   "execution_count": 5,
   "metadata": {},
   "outputs": [],
   "source": [
    "model = 'BIMODAL'\n",
    "start = 'random' \n",
    "augmentation_level = 5 \n",
    "network_size = 512"
   ]
  },
  {
   "cell_type": "markdown",
   "metadata": {},
   "source": [
    "### Fine-tuning settings <a name=\"ft\"></a>\n",
    "Now, we need to specify how we want the model to be fine-tuned. In what follows, you can specify these options:\n",
    "* *fine_tuning* (str): name of the dataset for fine-tuning (without file extension). If the set is in /data, only the name is sufficient, otherwise, specify the full path; only .csv and tar.xz are admitted.\n",
    "* *epochs* (int): number of fine-tuning epochs. The higher the number, the closer the design to the fine-tuning molecules."
   ]
  },
  {
   "cell_type": "code",
   "execution_count": 6,
   "metadata": {},
   "outputs": [],
   "source": [
    "# training process\n",
    "fine_tuning = 'fine_tuning' \n",
    "epochs = 25"
   ]
  },
  {
   "cell_type": "markdown",
   "metadata": {},
   "source": [
    "### Sampling settings <a name=\"sampl\"></a>\n",
    "Finally, we can specify how we want to sample from the fine-tuned model:\n",
    "* *T_sampling* (double): temperature for sampling. This represents how \"fuzzy\" the sampling will be, reflecting in the diversity of the designs (the higher, the higher the diversity). Reccomended 0.7.\n",
    "* *n_sampling* (int): number of SMILES strings to sample at each fine-tuning epoch\n",
    "* sample_valid (bool): if set to True, only valid SMILES are considered to reach *n_sampling* \n",
    "* sample_novel (bool): if set to True, only SMILES not included in the training set are considered to reach *n_sampling* \n",
    "* *sample_unique* (bool): if set to True, only SMILES corrisponding to different molecules are considered to reach *n_sampling* \n",
    "For the exercise, we chose the settings below:"
   ]
  },
  {
   "cell_type": "code",
   "execution_count": 7,
   "metadata": {},
   "outputs": [],
   "source": [
    "# sampling process\n",
    "T_sampling = 0.7 \n",
    "n_sampling = 1000"
   ]
  },
  {
   "cell_type": "markdown",
   "metadata": {},
   "source": [
    "## 3. Fine tuning data  <a name=\"data\"></a>"
   ]
  },
  {
   "cell_type": "markdown",
   "metadata": {},
   "source": [
    "### Import and analyze fine tuning data  <a name=\"imp\"></a>"
   ]
  },
  {
   "cell_type": "markdown",
   "metadata": {},
   "source": [
    "#### SMILES strings"
   ]
  },
  {
   "cell_type": "markdown",
   "metadata": {},
   "source": [
    "The fine-tuning data for this example are provided in the [/example](example) folder, as a .csv file (*fine_tuning.csv*). You can visualize the content of the file with the following lines of code:"
   ]
  },
  {
   "cell_type": "code",
   "execution_count": 8,
   "metadata": {
    "scrolled": true
   },
   "outputs": [
    {
     "data": {
      "text/html": [
       "<div>\n",
       "<style scoped>\n",
       "    .dataframe tbody tr th:only-of-type {\n",
       "        vertical-align: middle;\n",
       "    }\n",
       "\n",
       "    .dataframe tbody tr th {\n",
       "        vertical-align: top;\n",
       "    }\n",
       "\n",
       "    .dataframe thead th {\n",
       "        text-align: right;\n",
       "    }\n",
       "</style>\n",
       "<table border=\"1\" class=\"dataframe\">\n",
       "  <thead>\n",
       "    <tr style=\"text-align: right;\">\n",
       "      <th></th>\n",
       "      <th>0</th>\n",
       "    </tr>\n",
       "  </thead>\n",
       "  <tbody>\n",
       "    <tr>\n",
       "      <th>0</th>\n",
       "      <td>CC1=CC2=C(C=C1C(=C)C3=CC=C(C=C3)C(=O)O)C(CCC2(...</td>\n",
       "    </tr>\n",
       "    <tr>\n",
       "      <th>1</th>\n",
       "      <td>CC(=CC=CC(C)=CC(=O)O)c1cc(-c2ccc(F)cc2)cc(C(C)...</td>\n",
       "    </tr>\n",
       "    <tr>\n",
       "      <th>2</th>\n",
       "      <td>CC(=CC=CC(C)=CC(=O)O)c1cc(C(C)(C)C)cc(C(C)(C)C...</td>\n",
       "    </tr>\n",
       "    <tr>\n",
       "      <th>3</th>\n",
       "      <td>CC1=C(C=CC(C)=CC=CC(C)=CC(=O)O)C(C)(C)CCC1</td>\n",
       "    </tr>\n",
       "  </tbody>\n",
       "</table>\n",
       "</div>"
      ],
      "text/plain": [
       "                                                   0\n",
       "0  CC1=CC2=C(C=C1C(=C)C3=CC=C(C=C3)C(=O)O)C(CCC2(...\n",
       "1  CC(=CC=CC(C)=CC(=O)O)c1cc(-c2ccc(F)cc2)cc(C(C)...\n",
       "2  CC(=CC=CC(C)=CC(=O)O)c1cc(C(C)(C)C)cc(C(C)(C)C...\n",
       "3         CC1=C(C=CC(C)=CC=CC(C)=CC(=O)O)C(C)(C)CCC1"
      ]
     },
     "execution_count": 8,
     "metadata": {},
     "output_type": "execute_result"
    }
   ],
   "source": [
    "ft_set = pd.read_csv('../example/fine_tuning.csv',header=None) \n",
    "ft_set.head() # preview"
   ]
  },
  {
   "cell_type": "markdown",
   "metadata": {},
   "source": [
    "We can also look have a look at each SMILES individually, e.g. with the following command:"
   ]
  },
  {
   "cell_type": "code",
   "execution_count": 9,
   "metadata": {},
   "outputs": [
    {
     "data": {
      "text/plain": [
       "'CC1=CC2=C(C=C1C(=C)C3=CC=C(C=C3)C(=O)O)C(CCC2(C)C)(C)C'"
      ]
     },
     "execution_count": 9,
     "metadata": {},
     "output_type": "execute_result"
    }
   ],
   "source": [
    "smiles = ft_set.iloc[0,0] # molecule in row no. 0 (bexarotene)\n",
    "smiles"
   ]
  },
  {
   "cell_type": "markdown",
   "metadata": {},
   "source": [
    "This string can be converted into a depiction with the following command available in RDKit"
   ]
  },
  {
   "cell_type": "code",
   "execution_count": 10,
   "metadata": {},
   "outputs": [
    {
     "data": {
      "image/png": "[encoded data removed]",
      "text/plain": [
       "<rdkit.Chem.rdchem.Mol at 0x7f22ffee8170>"
      ]
     },
     "execution_count": 10,
     "metadata": {},
     "output_type": "execute_result"
    }
   ],
   "source": [
    "mol = Chem.MolFromSmiles(smiles)\n",
    "mol # for display"
   ]
  },
  {
   "cell_type": "markdown",
   "metadata": {},
   "source": [
    "RDKit can be also used to obtain a canonicalized SMILES, as follows:"
   ]
  },
  {
   "cell_type": "code",
   "execution_count": 11,
   "metadata": {
    "scrolled": true
   },
   "outputs": [
    {
     "data": {
      "text/plain": [
       "'C=C(c1ccc(C(=O)O)cc1)c1cc2c(cc1C)C(C)(C)CCC2(C)C'"
      ]
     },
     "execution_count": 11,
     "metadata": {},
     "output_type": "execute_result"
    }
   ],
   "source": [
    "Chem.MolToSmiles(mol)"
   ]
  },
  {
   "cell_type": "markdown",
   "metadata": {},
   "source": [
    "The canonical SMILES obtained will always be univocal for the same molecule, while other SMILES strings might be different."
   ]
  },
  {
   "cell_type": "markdown",
   "metadata": {},
   "source": [
    "#### Fine-tuning molecules"
   ]
  },
  {
   "cell_type": "markdown",
   "metadata": {},
   "source": [
    "In this example, we will import molecules as an rdkit supplier, which allows us to visualize them easily"
   ]
  },
  {
   "cell_type": "code",
   "execution_count": 62,
   "metadata": {},
   "outputs": [
    {
     "data": {
      "text/plain": [
       "568"
      ]
     },
     "execution_count": 62,
     "metadata": {},
     "output_type": "execute_result"
    }
   ],
   "source": [
    "ft_mols = Chem.SmilesMolSupplier('../example/fine_tuning.csv',nameColumn=-1,titleLine=False)\n",
    "number_mol = len(mols) # number of molecules in your list\n",
    "number_mol # prints the number of molecules"
   ]
  },
  {
   "cell_type": "markdown",
   "metadata": {},
   "source": [
    "Visualize the chosen fine-tuning molecules"
   ]
  },
  {
   "cell_type": "code",
   "execution_count": 63,
   "metadata": {
    "scrolled": false
   },
   "outputs": [
    {
     "data": {
      "image/png": "[encoded data removed]",
      "text/plain": [
       "<PIL.PngImagePlugin.PngImageFile image mode=RGB size=700x700 at 0x7F22FB26FD50>"
      ]
     },
     "execution_count": 63,
     "metadata": {},
     "output_type": "execute_result"
    }
   ],
   "source": [
    "Draw.MolsToGridImage(ft_mols, molsPerRow=2, subImgSize=(350,350),legends=[str(i+1) for i in range(number_mol)])"
   ]
  },
  {
   "cell_type": "markdown",
   "metadata": {},
   "source": [
    "## 4. Model fine-tuning <a name=\"prep\"></a>"
   ]
  },
  {
   "cell_type": "markdown",
   "metadata": {},
   "source": [
    "### Prepare the molecules for fine-tuning  <a name=\"prep\"></a>"
   ]
  },
  {
   "cell_type": "markdown",
   "metadata": {},
   "source": [
    "In this notebook, we will use BIMODAL, with random start, 5x augmentation, and a net size of 1024, as specified above. <div>\n",
    "Thus, we need to process the fine-tuning data accordingly, before model training."
   ]
  },
  {
   "cell_type": "code",
   "execution_count": 14,
   "metadata": {
    "scrolled": true
   },
   "outputs": [],
   "source": [
    "# Uncomment the following line to execute the pretreatment again. Attention: this will overwrite the existing file!\n",
    "#preprocess_data(filename_in='fine_tuning', model_type=model, starting_point=start, augmentation=augmentation_level)"
   ]
  },
  {
   "cell_type": "markdown",
   "metadata": {},
   "source": [
    "You can also inspect your molecules to see the effect of the preparation for fine-tuning your model:\n"
   ]
  },
  {
   "cell_type": "code",
   "execution_count": 15,
   "metadata": {
    "scrolled": true
   },
   "outputs": [
    {
     "data": {
      "text/html": [
       "<div>\n",
       "<style scoped>\n",
       "    .dataframe tbody tr th:only-of-type {\n",
       "        vertical-align: middle;\n",
       "    }\n",
       "\n",
       "    .dataframe tbody tr th {\n",
       "        vertical-align: top;\n",
       "    }\n",
       "\n",
       "    .dataframe thead th {\n",
       "        text-align: right;\n",
       "    }\n",
       "</style>\n",
       "<table border=\"1\" class=\"dataframe\">\n",
       "  <thead>\n",
       "    <tr style=\"text-align: right;\">\n",
       "      <th></th>\n",
       "      <th>0</th>\n",
       "      <th>1</th>\n",
       "      <th>2</th>\n",
       "      <th>3</th>\n",
       "      <th>4</th>\n",
       "    </tr>\n",
       "  </thead>\n",
       "  <tbody>\n",
       "    <tr>\n",
       "      <th>0</th>\n",
       "      <td>AAAAAAAAAAAAAAAAAAAAAAAAAAAAAAAAAAAAAAAAAAAAAA...</td>\n",
       "      <td>AAAAAAAAAAAAAAAAAAAAAAAAAAAAAAAAAAAAAAAAAAAAAA...</td>\n",
       "      <td>AAAAAAAAAAAAAAAAAAAAAAAAAAAAAAAAAAAAAEC=C(c1cc...</td>\n",
       "      <td>AAAAAAAAAAAAAAAAAAAAAAAAAAAAAAAAAAAEC=C(c1ccc(...</td>\n",
       "      <td>AAAAAAAAAAAAAAAAAAAAAAAAAAAAAAAAAAAAAAAAAAAAAA...</td>\n",
       "    </tr>\n",
       "    <tr>\n",
       "      <th>1</th>\n",
       "      <td>AAAAAAAAAAAAAAAAAAAAAAAAAAAAAAAAAAAAAAAAECC(C=...</td>\n",
       "      <td>AAAAAAAAAAAAAAAAAAAAAAAAAAAAAAAAAAAAAAAAAAAAAA...</td>\n",
       "      <td>AAAAAAAAAAAAAAAAAAAAAAAAAAAAAAAAAAAAAAAAAAAAAA...</td>\n",
       "      <td>AAAAAAAAAAAAAAAAAAAAAAAAAAAAAAAAAAAAAAECC(C=CC...</td>\n",
       "      <td>AAAAAAAAAAAAAAAAAAAAAAAAAAAAAAAAAAAAAAAAAAAAAA...</td>\n",
       "    </tr>\n",
       "    <tr>\n",
       "      <th>2</th>\n",
       "      <td>AAAAAAAAAAAAAAAAAAAAAAAAAAAAAAAAAAAAAAECC(C=CC...</td>\n",
       "      <td>AAAAAAAAAAAAAAAAAAAAAAAAAAAAAAAAAAAAAAAAAAAAAA...</td>\n",
       "      <td>AAAAAAAAAAAAAAAAAAAAAAECC(C=CC=C(C)c1cc(-c2ccc...</td>\n",
       "      <td>AAAAAAAAAAAAAAAAAAAAAAAAAAAAAAAAAAAAAAAAAAAAAA...</td>\n",
       "      <td>AAAAAAAAAAAAAAAAAAAAAAAAAAAAAAAECC(C=CC=C(C)c1...</td>\n",
       "    </tr>\n",
       "    <tr>\n",
       "      <th>3</th>\n",
       "      <td>AAAAAAAAAAAAAAAAAAAAAAAAAAAAAAAAAAAAAAAAAAAAAA...</td>\n",
       "      <td>AAAAAAAAAAAAAAAAAAAAAAAAAAAAAAAAAAAAAAAAAAAAAA...</td>\n",
       "      <td>AAAAAAAAAAAAAAAAAAAAAAAAAAAAAAAAAAAAAAAAAAAAAA...</td>\n",
       "      <td>AAAAAAAAAAAAAAAAAAAAAAAAAAAAAAAAAAAAAAAAAAAAAA...</td>\n",
       "      <td>AAAAAAAAAAAAAAAAAAAAAAAAAAAAAAAAAAECC(C=CC=C(C...</td>\n",
       "    </tr>\n",
       "  </tbody>\n",
       "</table>\n",
       "</div>"
      ],
      "text/plain": [
       "                                                   0  \\\n",
       "0  AAAAAAAAAAAAAAAAAAAAAAAAAAAAAAAAAAAAAAAAAAAAAA...   \n",
       "1  AAAAAAAAAAAAAAAAAAAAAAAAAAAAAAAAAAAAAAAAECC(C=...   \n",
       "2  AAAAAAAAAAAAAAAAAAAAAAAAAAAAAAAAAAAAAAECC(C=CC...   \n",
       "3  AAAAAAAAAAAAAAAAAAAAAAAAAAAAAAAAAAAAAAAAAAAAAA...   \n",
       "\n",
       "                                                   1  \\\n",
       "0  AAAAAAAAAAAAAAAAAAAAAAAAAAAAAAAAAAAAAAAAAAAAAA...   \n",
       "1  AAAAAAAAAAAAAAAAAAAAAAAAAAAAAAAAAAAAAAAAAAAAAA...   \n",
       "2  AAAAAAAAAAAAAAAAAAAAAAAAAAAAAAAAAAAAAAAAAAAAAA...   \n",
       "3  AAAAAAAAAAAAAAAAAAAAAAAAAAAAAAAAAAAAAAAAAAAAAA...   \n",
       "\n",
       "                                                   2  \\\n",
       "0  AAAAAAAAAAAAAAAAAAAAAAAAAAAAAAAAAAAAAEC=C(c1cc...   \n",
       "1  AAAAAAAAAAAAAAAAAAAAAAAAAAAAAAAAAAAAAAAAAAAAAA...   \n",
       "2  AAAAAAAAAAAAAAAAAAAAAAECC(C=CC=C(C)c1cc(-c2ccc...   \n",
       "3  AAAAAAAAAAAAAAAAAAAAAAAAAAAAAAAAAAAAAAAAAAAAAA...   \n",
       "\n",
       "                                                   3  \\\n",
       "0  AAAAAAAAAAAAAAAAAAAAAAAAAAAAAAAAAAAEC=C(c1ccc(...   \n",
       "1  AAAAAAAAAAAAAAAAAAAAAAAAAAAAAAAAAAAAAAECC(C=CC...   \n",
       "2  AAAAAAAAAAAAAAAAAAAAAAAAAAAAAAAAAAAAAAAAAAAAAA...   \n",
       "3  AAAAAAAAAAAAAAAAAAAAAAAAAAAAAAAAAAAAAAAAAAAAAA...   \n",
       "\n",
       "                                                   4  \n",
       "0  AAAAAAAAAAAAAAAAAAAAAAAAAAAAAAAAAAAAAAAAAAAAAA...  \n",
       "1  AAAAAAAAAAAAAAAAAAAAAAAAAAAAAAAAAAAAAAAAAAAAAA...  \n",
       "2  AAAAAAAAAAAAAAAAAAAAAAAAAAAAAAAECC(C=CC=C(C)c1...  \n",
       "3  AAAAAAAAAAAAAAAAAAAAAAAAAAAAAAAAAAECC(C=CC=C(C...  "
      ]
     },
     "execution_count": 15,
     "metadata": {},
     "output_type": "execute_result"
    }
   ],
   "source": [
    "filepath = '../data/'+ fine_tuning + '_' + model + '_' + start + '.csv' #path to the pretreated file based on the settings\n",
    "ft_set = pd.read_csv(filepath,header=None) \n",
    "ft_set.head() # preview"
   ]
  },
  {
   "cell_type": "markdown",
   "metadata": {},
   "source": [
    "Each row will correspond to one fine-tuning molecule, while each column will be referred to one \"augmented\" version. The 'A' token is used for padding, i.e., to allow each string to have the same length, independently of the length of the original SMILES string. "
   ]
  },
  {
   "cell_type": "markdown",
   "metadata": {},
   "source": [
    "You can print all the strings (without the 'A' token) referring, for instance, to bexarotene (row 0):"
   ]
  },
  {
   "cell_type": "code",
   "execution_count": 84,
   "metadata": {
    "scrolled": true
   },
   "outputs": [
    {
     "name": "stdout",
     "output_type": "stream",
     "text": [
      "ECG=C(c1ccc(C(=O)O)cc1)c1cc2c(cc1C)C(C)(C)CCC2(C)CE\n",
      "EC=C(c1ccc(C(=O)O)cc1)c1cGc2c(cc1C)C(C)(C)CCC2(C)CE\n",
      "EC=C(c1ccc(C(=O)O)cc1)c1cc2c(cc1C)C(C)G(C)CCC2(C)CE\n",
      "EC=C(c1ccc(C(=O)O)cc1)c1cc2c(cc1C)C(C)(CG)CCC2(C)CE\n",
      "EC=C(c1ccc(C(=O)O)cc1)c1ccG2c(cc1C)C(C)(C)CCC2(C)CE\n"
     ]
    }
   ],
   "source": [
    "for i in range(0,augmentation_level):\n",
    "    print(ft_set.iloc[0,i].replace('A',''))"
   ]
  },
  {
   "cell_type": "markdown",
   "metadata": {},
   "source": [
    "Note that every time the pretreatment procedure is repeated, different positioning of the G token will be obtained, due to the random placement."
   ]
  },
  {
   "cell_type": "markdown",
   "metadata": {},
   "source": [
    "### Fine-tune your model  <a name=\"prep\"></a>"
   ]
  },
  {
   "cell_type": "markdown",
   "metadata": {},
   "source": [
    "To be trained, the model needs to rely on a configuration file. <div>\n",
    "To help you with this, we prepared a function, called *make_config*, to do so easily. <div>\n",
    "The file will be saved as ([\"Example_FineTuning.ini\"](../experiments/)). You can also edit the file manually to change some desired options."
   ]
  },
  {
   "cell_type": "code",
   "execution_count": 16,
   "metadata": {},
   "outputs": [],
   "source": [
    "import utils\n",
    "exp_name = utils.make_config(model_type=model, net_size=network_size, epochs=epochs, starting_point=start, fine_tuning='fine_tuning', n_sampling=n_sampling,T_sampling=T_sampling,augmentation_level=augmentation_level)"
   ]
  },
  {
   "cell_type": "markdown",
   "metadata": {},
   "source": [
    "Now, you are ready to fine tune the model!"
   ]
  },
  {
   "cell_type": "code",
   "execution_count": 88,
   "metadata": {},
   "outputs": [
    {
     "name": "stderr",
     "output_type": "stream",
     "text": [
      "/home/francesca/anaconda3/envs/de_novo/lib/python3.7/site-packages/torch/serialization.py:434: SourceChangeWarning: source code of class 'bidir_lstm.BiDirLSTM' has changed. you can retrieve the original source code by accessing the object's source attribute or set `torch.nn.Module.dump_patches = True` and use the patch tool to revert the changes.\n",
      "  warnings.warn(msg, SourceChangeWarning)\n"
     ]
    },
    {
     "name": "stdout",
     "output_type": "stream",
     "text": [
      "Epoch: 1\n",
      "Epoch: 2\n",
      "Epoch: 3\n",
      "Epoch: 4\n",
      "Epoch: 5\n",
      "Epoch: 6\n",
      "Epoch: 7\n",
      "Epoch: 8\n",
      "Epoch: 9\n",
      "Epoch: 10\n",
      "Epoch: 11\n",
      "Epoch: 12\n",
      "Epoch: 13\n",
      "Epoch: 14\n",
      "Epoch: 15\n",
      "Epoch: 16\n",
      "Epoch: 17\n",
      "Epoch: 18\n",
      "Epoch: 19\n",
      "Epoch: 20\n",
      "Epoch: 21\n",
      "Epoch: 22\n",
      "Epoch: 23\n",
      "Epoch: 24\n",
      "Epoch: 25\n"
     ]
    }
   ],
   "source": [
    "import fine_tuner\n",
    "t = fine_tuner.FineTuner(experiment_name = exp_name)\n",
    "#Uncomment the following line to start the fine-tuning. Attention, results will be overwritten!\n",
    "#t.fine_tuning(stor_dir='../evaluation/')"
   ]
  },
  {
   "cell_type": "markdown",
   "metadata": {},
   "source": [
    "## 5. Analysis of the results"
   ]
  },
  {
   "cell_type": "markdown",
   "metadata": {},
   "source": [
    "### Cross-entropy loss at each epoch"
   ]
  },
  {
   "cell_type": "markdown",
   "metadata": {},
   "source": [
    "We can check how the model learnt across the epochs, by evaluating the variation of the cross-entropy loss:"
   ]
  },
  {
   "cell_type": "code",
   "execution_count": 17,
   "metadata": {},
   "outputs": [
    {
     "data": {
      "text/plain": [
       "<matplotlib.axes._subplots.AxesSubplot at 0x7f22ffbb01d0>"
      ]
     },
     "execution_count": 17,
     "metadata": {},
     "output_type": "execute_result"
    },
    {
     "data": {
      "image/png": "[encoded data removed]",
      "text/plain": [
       "<Figure size 432x432 with 1 Axes>"
      ]
     },
     "metadata": {
      "needs_background": "light"
     },
     "output_type": "display_data"
    }
   ],
   "source": [
    "loss = pd.read_csv('../evaluation/'+ exp_name + '/statistic/stat_fold_1.csv',header=None)\n",
    "loss.columns = [\"epochs\", \"loss\"]\n",
    "loss.plot.line(x=0, y=1,figsize=(6,6))"
   ]
  },
  {
   "cell_type": "markdown",
   "metadata": {},
   "source": [
    "### Analysis of the designs"
   ]
  },
  {
   "cell_type": "markdown",
   "metadata": {},
   "source": [
    "The sampled files will be stored in a dedicated folder, under /evaluation/\"exp_name\"/molecules/. The SMILES generated at a given epoch (e.g., 5) can be imported as follows:"
   ]
  },
  {
   "cell_type": "code",
   "execution_count": 18,
   "metadata": {
    "scrolled": true
   },
   "outputs": [
    {
     "data": {
      "image/png": "[encoded data removed]",
      "text/plain": [
       "<rdkit.Chem.rdchem.Mol at 0x7f22fff45da0>"
      ]
     },
     "execution_count": 18,
     "metadata": {},
     "output_type": "execute_result"
    }
   ],
   "source": [
    "epoch = 5\n",
    "file_path = '../evaluation/' + exp_name + '/molecules/' + 'molecule_fold_1_epochs_' + str(epoch-1) + '.csv' # generates the filename\n",
    "mols = Chem.SmilesMolSupplier(file_path,smilesColumn=1,nameColumn=-1,titleLine=False,delimiter=',')\n",
    "# displays one molecule (e.g., first one)\n",
    "mols[0]"
   ]
  },
  {
   "cell_type": "markdown",
   "metadata": {},
   "source": [
    "You can compute the unique scaffolds"
   ]
  },
  {
   "cell_type": "markdown",
   "metadata": {},
   "source": [
    "### Validity, uniquennes and novelty analysis"
   ]
  },
  {
   "cell_type": "markdown",
   "metadata": {},
   "source": [
    "To analyse how many valid, unique and novel molecules were produced per epoch, you can find a utility within the ChemTools. The utlity can be used as follows: \n",
    "\n",
    "``` novelty_vs_epochs(folder,ft_path,export)``` \n",
    "\n",
    "where\n",
    "* *folder* (str) is the path to the folder containing the smiles lists (as csv)\n",
    "* *ft_path* (str) is the path to the fine tuning set original file\n",
    "* *export* (bool) determines whether a file with the valid, unique, and novel smiles is saved for each epoch (in the results folder, under, \"molecules_novel\").\n",
    "\n",
    "For advanced options, check the code file. Below, you will find an example on how to use the code."
   ]
  },
  {
   "cell_type": "code",
   "execution_count": 19,
   "metadata": {},
   "outputs": [
    {
     "name": "stdout",
     "output_type": "stream",
     "text": [
      "Analysing file: molecule_fold_1_epochs_0.csv\n",
      "Analysing file: molecule_fold_1_epochs_1.csv\n",
      "Analysing file: molecule_fold_1_epochs_2.csv\n",
      "Analysing file: molecule_fold_1_epochs_3.csv\n",
      "Analysing file: molecule_fold_1_epochs_4.csv\n",
      "Analysing file: molecule_fold_1_epochs_5.csv\n",
      "Analysing file: molecule_fold_1_epochs_6.csv\n",
      "Analysing file: molecule_fold_1_epochs_7.csv\n",
      "Analysing file: molecule_fold_1_epochs_8.csv\n",
      "Analysing file: molecule_fold_1_epochs_9.csv\n",
      "Analysing file: molecule_fold_1_epochs_10.csv\n",
      "Analysing file: molecule_fold_1_epochs_11.csv\n",
      "Analysing file: molecule_fold_1_epochs_12.csv\n",
      "Analysing file: molecule_fold_1_epochs_13.csv\n",
      "Analysing file: molecule_fold_1_epochs_14.csv\n",
      "Analysing file: molecule_fold_1_epochs_15.csv\n",
      "Analysing file: molecule_fold_1_epochs_16.csv\n",
      "Analysing file: molecule_fold_1_epochs_17.csv\n",
      "Analysing file: molecule_fold_1_epochs_18.csv\n",
      "Analysing file: molecule_fold_1_epochs_19.csv\n",
      "Analysing file: molecule_fold_1_epochs_20.csv\n",
      "Analysing file: molecule_fold_1_epochs_21.csv\n",
      "Analysing file: molecule_fold_1_epochs_22.csv\n",
      "Analysing file: molecule_fold_1_epochs_23.csv\n",
      "Analysing file: molecule_fold_1_epochs_24.csv\n"
     ]
    }
   ],
   "source": [
    "from ChemTools import novelty_vs_epochs\n",
    "folder = '../evaluation/' + exp_name + '/' # generates the folder path automatically\n",
    "stats = novelty_vs_epochs(folder,ft_path='../example/fine_tuning.csv',export=True)"
   ]
  },
  {
   "cell_type": "markdown",
   "metadata": {},
   "source": [
    "Because of the option \"export=True\", a new folder will be created, containing only novel, unique and valid molecules. This will be found in your results folder (e.g., /evaluation/BIMODAL_random_512_aug_5_FineTuning/) and will be called \"molecules_novel\"."
   ]
  },
  {
   "cell_type": "markdown",
   "metadata": {},
   "source": [
    "Now you can analyse the statistics for each fine-tuning epoch, as saved in the \"stats\" dataframe. This dataframe contains one epoch per row and the corresponding number of valid, unique and novel molecules:"
   ]
  },
  {
   "cell_type": "code",
   "execution_count": 20,
   "metadata": {},
   "outputs": [
    {
     "data": {
      "text/html": [
       "<div>\n",
       "<style scoped>\n",
       "    .dataframe tbody tr th:only-of-type {\n",
       "        vertical-align: middle;\n",
       "    }\n",
       "\n",
       "    .dataframe tbody tr th {\n",
       "        vertical-align: top;\n",
       "    }\n",
       "\n",
       "    .dataframe thead th {\n",
       "        text-align: right;\n",
       "    }\n",
       "</style>\n",
       "<table border=\"1\" class=\"dataframe\">\n",
       "  <thead>\n",
       "    <tr style=\"text-align: right;\">\n",
       "      <th></th>\n",
       "      <th>valid</th>\n",
       "      <th>unique</th>\n",
       "      <th>novel</th>\n",
       "    </tr>\n",
       "  </thead>\n",
       "  <tbody>\n",
       "    <tr>\n",
       "      <th>0</th>\n",
       "      <td>911.0</td>\n",
       "      <td>909.0</td>\n",
       "      <td>901.0</td>\n",
       "    </tr>\n",
       "    <tr>\n",
       "      <th>1</th>\n",
       "      <td>916.0</td>\n",
       "      <td>913.0</td>\n",
       "      <td>911.0</td>\n",
       "    </tr>\n",
       "    <tr>\n",
       "      <th>2</th>\n",
       "      <td>908.0</td>\n",
       "      <td>908.0</td>\n",
       "      <td>906.0</td>\n",
       "    </tr>\n",
       "    <tr>\n",
       "      <th>3</th>\n",
       "      <td>892.0</td>\n",
       "      <td>891.0</td>\n",
       "      <td>890.0</td>\n",
       "    </tr>\n",
       "    <tr>\n",
       "      <th>4</th>\n",
       "      <td>882.0</td>\n",
       "      <td>878.0</td>\n",
       "      <td>874.0</td>\n",
       "    </tr>\n",
       "  </tbody>\n",
       "</table>\n",
       "</div>"
      ],
      "text/plain": [
       "   valid  unique  novel\n",
       "0  911.0   909.0  901.0\n",
       "1  916.0   913.0  911.0\n",
       "2  908.0   908.0  906.0\n",
       "3  892.0   891.0  890.0\n",
       "4  882.0   878.0  874.0"
      ]
     },
     "execution_count": 20,
     "metadata": {},
     "output_type": "execute_result"
    }
   ],
   "source": [
    "stats.head() # preview"
   ]
  },
  {
   "cell_type": "markdown",
   "metadata": {},
   "source": [
    "This file can be exported as a csv (\"novelty_results\"), e.g., by creating a folder named \"analysis\" in your experiment folder"
   ]
  },
  {
   "cell_type": "code",
   "execution_count": 22,
   "metadata": {},
   "outputs": [],
   "source": [
    "results_path = '../evaluation/' + exp_name + '/analysis'\n",
    "if os.path.exists(results_path) is False: # checks if the folder exists, and otherwise creates it\n",
    "    os.mkdir(results_path)\n",
    "\n",
    "stats.to_csv(results_path + '/novelty_results.csv')"
   ]
  },
  {
   "cell_type": "markdown",
   "metadata": {},
   "source": [
    "You can also inspect the results visually with a barplot"
   ]
  },
  {
   "cell_type": "code",
   "execution_count": 226,
   "metadata": {},
   "outputs": [
    {
     "data": {
      "text/plain": [
       "<matplotlib.axes._subplots.AxesSubplot at 0x7fbd1b2b0890>"
      ]
     },
     "execution_count": 226,
     "metadata": {},
     "output_type": "execute_result"
    },
    {
     "data": {
      "image/png": "[encoded data removed]",
      "text/plain": [
       "<Figure size 720x576 with 1 Axes>"
      ]
     },
     "metadata": {
      "needs_background": "light"
     },
     "output_type": "display_data"
    }
   ],
   "source": [
    "stats.plot.bar(figsize=(10,8))"
   ]
  },
  {
   "cell_type": "markdown",
   "metadata": {},
   "source": [
    "### Scaffold analysis"
   ]
  },
  {
   "cell_type": "markdown",
   "metadata": {},
   "source": [
    "To analyse how many unique scaffolds are produced per epoch, you can find a utility within the ChemTools. The utlity can be used as follows: \n",
    "\n",
    "```scaffolds_vs_epochs(folder)``` \n",
    "\n",
    "where\n",
    "* *folder* (str) is the path to the folder containing the smiles lists (as csv).\n",
    "\n",
    "In this example, we will only load the valid, unique and novel molecules for our analysis, as follows:"
   ]
  },
  {
   "cell_type": "code",
   "execution_count": 233,
   "metadata": {},
   "outputs": [],
   "source": [
    "from ChemTools import scaffolds_vs_epochs\n",
    "folder = '../evaluation/' + exp_name + '/molecules_novel/'\n",
    "scaffold_res = scaffolds_vs_epochs(folder)"
   ]
  },
  {
   "cell_type": "markdown",
   "metadata": {},
   "source": [
    "\"scaffold_res\" is a dataframe, containing the number of unique scaffolds per epoch, as well as the percentage over the total number of analyzed SMILES."
   ]
  },
  {
   "cell_type": "code",
   "execution_count": 234,
   "metadata": {},
   "outputs": [
    {
     "data": {
      "text/html": [
       "<div>\n",
       "<style scoped>\n",
       "    .dataframe tbody tr th:only-of-type {\n",
       "        vertical-align: middle;\n",
       "    }\n",
       "\n",
       "    .dataframe tbody tr th {\n",
       "        vertical-align: top;\n",
       "    }\n",
       "\n",
       "    .dataframe thead th {\n",
       "        text-align: right;\n",
       "    }\n",
       "</style>\n",
       "<table border=\"1\" class=\"dataframe\">\n",
       "  <thead>\n",
       "    <tr style=\"text-align: right;\">\n",
       "      <th></th>\n",
       "      <th>No_unique</th>\n",
       "      <th>Perc_unique</th>\n",
       "    </tr>\n",
       "  </thead>\n",
       "  <tbody>\n",
       "    <tr>\n",
       "      <th>0</th>\n",
       "      <td>828</td>\n",
       "      <td>0.918979</td>\n",
       "    </tr>\n",
       "    <tr>\n",
       "      <th>1</th>\n",
       "      <td>821</td>\n",
       "      <td>0.901207</td>\n",
       "    </tr>\n",
       "    <tr>\n",
       "      <th>2</th>\n",
       "      <td>802</td>\n",
       "      <td>0.885210</td>\n",
       "    </tr>\n",
       "    <tr>\n",
       "      <th>3</th>\n",
       "      <td>764</td>\n",
       "      <td>0.858427</td>\n",
       "    </tr>\n",
       "    <tr>\n",
       "      <th>4</th>\n",
       "      <td>720</td>\n",
       "      <td>0.823799</td>\n",
       "    </tr>\n",
       "  </tbody>\n",
       "</table>\n",
       "</div>"
      ],
      "text/plain": [
       "   No_unique  Perc_unique\n",
       "0        828     0.918979\n",
       "1        821     0.901207\n",
       "2        802     0.885210\n",
       "3        764     0.858427\n",
       "4        720     0.823799"
      ]
     },
     "execution_count": 234,
     "metadata": {},
     "output_type": "execute_result"
    }
   ],
   "source": [
    "scaffold_res.head()"
   ]
  },
  {
   "cell_type": "code",
   "execution_count": 239,
   "metadata": {},
   "outputs": [
    {
     "data": {
      "text/plain": [
       "array([<matplotlib.axes._subplots.AxesSubplot object at 0x7fbd197f5250>,\n",
       "       <matplotlib.axes._subplots.AxesSubplot object at 0x7fbd1a7a9c50>],\n",
       "      dtype=object)"
      ]
     },
     "execution_count": 239,
     "metadata": {},
     "output_type": "execute_result"
    },
    {
     "data": {
      "image/png": "[encoded data removed]",
      "text/plain": [
       "<Figure size 720x576 with 2 Axes>"
      ]
     },
     "metadata": {
      "needs_background": "light"
     },
     "output_type": "display_data"
    }
   ],
   "source": [
    "# saves the results\n",
    "scaffold_res.to_csv(results_path + '/scaffolds_results.csv')\n",
    "# displays\n",
    "scaffold_res.plot.bar(figsize=(10,8),subplots=True)"
   ]
  },
  {
   "cell_type": "markdown",
   "metadata": {},
   "source": [
    "### Morgan similarity"
   ]
  },
  {
   "cell_type": "markdown",
   "metadata": {},
   "source": [
    "To analyse how many unique scaffolds are produced per epoch, you can find a utility within the ChemTools. The utlity can be used as follows:\n",
    "\n",
    "```scaffolds_vs_epochs(folder,path_ft)```\n",
    "\n",
    "where\n",
    "\n",
    "* *folder* (str) is the path to the folder containing the smiles lists (as csv).\n",
    "* *path_ft* (str) is the path to the fine-tuning data file.\n",
    "\n",
    "In this example, we will only load the valid, unique and novel molecules for our analysis, as follows:"
   ]
  },
  {
   "cell_type": "code",
   "execution_count": 31,
   "metadata": {},
   "outputs": [],
   "source": [
    "from ChemTools import morgan_vs_epochs\n",
    "folder = '../evaluation/' + exp_name + '/molecules_novel/'\n",
    "sim_res = ChemTools.morgan_vs_epochs(folder,path_ft='../example/fine_tuning.csv')"
   ]
  },
  {
   "cell_type": "markdown",
   "metadata": {},
   "source": [
    "The obtained file contains the minimum, mean and max similarity to the fine-tuning set at each epoch:"
   ]
  },
  {
   "cell_type": "code",
   "execution_count": 30,
   "metadata": {},
   "outputs": [
    {
     "data": {
      "text/html": [
       "<div>\n",
       "<style scoped>\n",
       "    .dataframe tbody tr th:only-of-type {\n",
       "        vertical-align: middle;\n",
       "    }\n",
       "\n",
       "    .dataframe tbody tr th {\n",
       "        vertical-align: top;\n",
       "    }\n",
       "\n",
       "    .dataframe thead th {\n",
       "        text-align: right;\n",
       "    }\n",
       "</style>\n",
       "<table border=\"1\" class=\"dataframe\">\n",
       "  <thead>\n",
       "    <tr style=\"text-align: right;\">\n",
       "      <th></th>\n",
       "      <th>MinSim</th>\n",
       "      <th>MeanSim</th>\n",
       "      <th>MaxSim</th>\n",
       "    </tr>\n",
       "  </thead>\n",
       "  <tbody>\n",
       "    <tr>\n",
       "      <th>0</th>\n",
       "      <td>0.013986</td>\n",
       "      <td>0.121542</td>\n",
       "      <td>0.494505</td>\n",
       "    </tr>\n",
       "    <tr>\n",
       "      <th>1</th>\n",
       "      <td>0.012422</td>\n",
       "      <td>0.125684</td>\n",
       "      <td>0.298246</td>\n",
       "    </tr>\n",
       "    <tr>\n",
       "      <th>2</th>\n",
       "      <td>0.013158</td>\n",
       "      <td>0.128379</td>\n",
       "      <td>0.416667</td>\n",
       "    </tr>\n",
       "    <tr>\n",
       "      <th>3</th>\n",
       "      <td>0.012658</td>\n",
       "      <td>0.133449</td>\n",
       "      <td>0.423729</td>\n",
       "    </tr>\n",
       "    <tr>\n",
       "      <th>4</th>\n",
       "      <td>0.014388</td>\n",
       "      <td>0.137681</td>\n",
       "      <td>0.538462</td>\n",
       "    </tr>\n",
       "  </tbody>\n",
       "</table>\n",
       "</div>"
      ],
      "text/plain": [
       "     MinSim   MeanSim    MaxSim\n",
       "0  0.013986  0.121542  0.494505\n",
       "1  0.012422  0.125684  0.298246\n",
       "2  0.013158  0.128379  0.416667\n",
       "3  0.012658  0.133449  0.423729\n",
       "4  0.014388  0.137681  0.538462"
      ]
     },
     "execution_count": 30,
     "metadata": {},
     "output_type": "execute_result"
    }
   ],
   "source": [
    "sim_res.head()"
   ]
  },
  {
   "cell_type": "code",
   "execution_count": 41,
   "metadata": {},
   "outputs": [
    {
     "data": {
      "text/plain": [
       "<matplotlib.axes._subplots.AxesSubplot at 0x7f2303588190>"
      ]
     },
     "execution_count": 41,
     "metadata": {},
     "output_type": "execute_result"
    },
    {
     "data": {
      "image/png": "[encoded data removed]",
      "text/plain": [
       "<Figure size 432x288 with 1 Axes>"
      ]
     },
     "metadata": {
      "needs_background": "light"
     },
     "output_type": "display_data"
    }
   ],
   "source": [
    "# saves the results\n",
    "sim_res.to_csv(results_path + '/similarity_results.csv')\n",
    "# displays\n",
    "import seaborn as sns\n",
    "sns.lineplot(data=sim_res, ci=1000)"
   ]
  },
  {
   "cell_type": "markdown",
   "metadata": {},
   "source": [
    "### Selected epoch"
   ]
  },
  {
   "cell_type": "markdown",
   "metadata": {},
   "source": [
    "Based on the results of the analysis, you can now select one or more epochs to use for your project. For instance, you could choose epoch 10 and analyse the most frequent atomic scaffolds in there, as follows:"
   ]
  },
  {
   "cell_type": "code",
   "execution_count": 79,
   "metadata": {},
   "outputs": [],
   "source": [
    "epoch = 25\n",
    "file_path = '../evaluation/' + exp_name + '/molecules_novel/' + 'molecule_fold_1_epochs_' + str(epoch-1) + '.csv' # generates the filename\n",
    "designs = Chem.SmilesMolSupplier(file_path,smilesColumn=0,titleLine=False,delimiter=',')"
   ]
  },
  {
   "cell_type": "code",
   "execution_count": 80,
   "metadata": {},
   "outputs": [],
   "source": [
    "from ChemTools import frequent_scaffolds\n",
    "freq_scaffolds = frequent_scaffolds(designs)"
   ]
  },
  {
   "cell_type": "markdown",
   "metadata": {},
   "source": [
    "Draw the scaffolds of the de novo designs"
   ]
  },
  {
   "cell_type": "code",
   "execution_count": 81,
   "metadata": {},
   "outputs": [
    {
     "data": {
      "image/png": "[encoded data removed]",
      "text/plain": [
       "<PIL.PngImagePlugin.PngImageFile image mode=RGB size=400x600 at 0x7F22FB237E10>"
      ]
     },
     "execution_count": 81,
     "metadata": {},
     "output_type": "execute_result"
    }
   ],
   "source": [
    "k = 6 # number of scaffolds to depict\n",
    "Draw.MolsToGridImage(freq_scaffolds[:k],molsPerRow=2,subImgSize=(200,200),legends=[x.GetProp(\"_Name\") for x in freq_scaffolds[:k]])"
   ]
  },
  {
   "cell_type": "markdown",
   "metadata": {},
   "source": [
    "You can compare them with the fine-tuning scaffolds"
   ]
  },
  {
   "cell_type": "code",
   "execution_count": 66,
   "metadata": {},
   "outputs": [
    {
     "data": {
      "image/png": "[encoded data removed]",
      "text/plain": [
       "<PIL.PngImagePlugin.PngImageFile image mode=RGB size=400x400 at 0x7F22FAF6A810>"
      ]
     },
     "execution_count": 66,
     "metadata": {},
     "output_type": "execute_result"
    }
   ],
   "source": [
    "ft_scaffolds = frequent_scaffolds(ft_mols)\n",
    "Draw.MolsToGridImage(ft_scaffolds,molsPerRow=2,subImgSize=(200,200),legends=[x.GetProp(\"_Name\") for x in ft_scaffolds])\n"
   ]
  },
  {
   "cell_type": "code",
   "execution_count": 75,
   "metadata": {},
   "outputs": [
    {
     "data": {
      "text/plain": [
       "'O=C(Nc1ccccc1)c1ccccc1'"
      ]
     },
     "execution_count": 75,
     "metadata": {},
     "output_type": "execute_result"
    }
   ],
   "source": [
    "Chem.MolToSmiles(freq_scaffolds[3])"
   ]
  },
  {
   "cell_type": "code",
   "execution_count": null,
   "metadata": {},
   "outputs": [],
   "source": []
  }
 ],
 "metadata": {
  "kernelspec": {
   "display_name": "Python 3",
   "language": "python",
   "name": "python3"
  },
  "language_info": {
   "codemirror_mode": {
    "name": "ipython",
    "version": 3
   },
   "file_extension": ".py",
   "mimetype": "text/x-python",
   "name": "python",
   "nbconvert_exporter": "python",
   "pygments_lexer": "ipython3",
   "version": "3.7.4"
  }
 },
 "nbformat": 4,
 "nbformat_minor": 2
}
